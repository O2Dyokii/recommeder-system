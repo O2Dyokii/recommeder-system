{
 "cells": [
  {
   "cell_type": "code",
   "execution_count": 1,
   "metadata": {},
   "outputs": [
    {
     "name": "stderr",
     "output_type": "stream",
     "text": [
      "/home/mllab/anaconda3/lib/python3.6/site-packages/h5py/__init__.py:36: FutureWarning: Conversion of the second argument of issubdtype from `float` to `np.floating` is deprecated. In future, it will be treated as `np.float64 == np.dtype(float).type`.\n",
      "  from ._conv import register_converters as _register_converters\n"
     ]
    }
   ],
   "source": [
    "import tensorflow as tf\n",
    "import pandas as pd\n",
    "import numpy as np\n",
    "import config\n",
    "from sklearn.model_selection import StratifiedKFold\n",
    "from load_data import FeatureDict, DataPaser\n",
    "from model import DCN"
   ]
  },
  {
   "cell_type": "markdown",
   "metadata": {},
   "source": [
    "## Load data"
   ]
  },
  {
   "cell_type": "code",
   "execution_count": 2,
   "metadata": {},
   "outputs": [],
   "source": [
    "def load_data():\n",
    "    dfTrain = pd.read_csv('data/train.csv')\n",
    "    dfTest = pd.read_csv('data/test.csv')\n",
    "    \n",
    "    def preprocess(df):\n",
    "        cols = [c for c in df.columns if c not in ['id','target']]\n",
    "        df['missing_feat'] = np.sum((df[cols] == -1).values, axis=1)\n",
    "        df['ps_car_13_x_ps_reg_03'] = df['ps_car_13'] * df['ps_reg_03']\n",
    "        return df\n",
    "    \n",
    "    dfTrain = preprocess(dfTrain)\n",
    "    dfTest = preprocess(dfTest)\n",
    "    \n",
    "    cols = [c for c in dfTrain.columns if c not in ['id','target']]\n",
    "    cols = [c for c in cols if (not c in config.IGNORE_COLS)]\n",
    "    \n",
    "    X_train = dfTrain[cols].values\n",
    "    y_train = dfTrain['target'].values\n",
    "    X_test = dfTest[cols].values\n",
    "    ids_test = dfTest['id'].values\n",
    "    \n",
    "    return dfTrain, dfTest, X_train, y_train,X_test,ids_test"
   ]
  },
  {
   "cell_type": "markdown",
   "metadata": {},
   "source": [
    "## Run model"
   ]
  },
  {
   "cell_type": "code",
   "execution_count": 3,
   "metadata": {},
   "outputs": [],
   "source": [
    "def run_dcn(dfTrain, dfTest, folds, params):\n",
    "    fd = FeatureDict(dfTrain, dfTest, numeric_cols=config.NUMERIC_COLS, \n",
    "                     ignore_cols=config.IGNORE_COLS, cate_cols=config.CATEGORICAL_COLS)\n",
    "    # print(fd.feat_dim)\n",
    "    # print(fd.feat_dict)\n",
    "    \n",
    "    data_parser = DataPaser(feat_dict=fd)\n",
    "    cate_Xi_train,cate_Xv_train,numeric_Xv_train,y_train = data_parser.parse(df=dfTrain,has_label=True)\n",
    "    cate_Xi_test,cate_Xv_test,numeric_Xv_test,ids_test = data_parser.parse(df=dfTest)\n",
    "    \n",
    "    params['cate_feature_size'] = fd.feat_dim\n",
    "    params['field_size'] = len(cate_Xi_train[0])\n",
    "    params['numeric_feature_size'] = len(config.NUMERIC_COLS)\n",
    "    \n",
    "    _get = lambda x, l: [x[i] for i in l]\n",
    "    for i,(trn_idx,val_idx) in enumerate(folds):\n",
    "        cate_Xi_train_, cate_Xv_train_,numeric_Xv_train_,y_train_ = _get(cate_Xi_train, trn_idx),_get(cate_Xv_train,trn_idx),_get(numeric_Xv_train,trn_idx),_get(y_train,trn_idx)\n",
    "        cate_Xi_valid_, cate_Xv_valid_,numeric_Xv_valid_,y_valid_ = _get(cate_Xi_train,val_idx),_get(cate_Xi_train,val_idx),_get(numeric_Xv_train,val_idx),_get(y_train,val_idx)\n",
    "        \n",
    "        dcn = DCN(**params)\n",
    "        dcn.fit(cate_Xi_train_,cate_Xv_train_,numeric_Xv_train_,y_train_,cate_Xi_valid_,cate_Xv_valid_,numeric_Xv_valid_,y_valid_)"
   ]
  },
  {
   "cell_type": "markdown",
   "metadata": {},
   "source": [
    "## Main"
   ]
  },
  {
   "cell_type": "code",
   "execution_count": 4,
   "metadata": {},
   "outputs": [],
   "source": [
    "dfTrain,dfTest,X_train,y_train,X_test,ids_test = load_data()"
   ]
  },
  {
   "cell_type": "code",
   "execution_count": 5,
   "metadata": {},
   "outputs": [],
   "source": [
    "folds = list(StratifiedKFold(n_splits=config.NUM_SPLITS,shuffle=True, random_state=config.RANDOM_SEED).split(X_train,y_train))"
   ]
  },
  {
   "cell_type": "code",
   "execution_count": 6,
   "metadata": {},
   "outputs": [],
   "source": [
    "params = {'embedding_size': 4,\n",
    "          'deep_layers': [8,8],\n",
    "          'dropout_deep': [0.5,0.5,0.5],\n",
    "          'deep_layers_activation': tf.nn.relu,\n",
    "          'epoch': 30,\n",
    "          'batch_size': 128,\n",
    "          'learning_rate': 0.001,\n",
    "          'optimizer_type': 'adam',\n",
    "          'verbose': True,\n",
    "          'random_seed': config.RANDOM_SEED,\n",
    "          'cross_layer_num': 3}"
   ]
  },
  {
   "cell_type": "code",
   "execution_count": 7,
   "metadata": {
    "scrolled": false
   },
   "outputs": [
    {
     "name": "stderr",
     "output_type": "stream",
     "text": [
      "/home/mllab/jupyter/Workspace/Kyuan/RS/DCN/load_data.py:20: FutureWarning: Sorting because non-concatenation axis is not aligned. A future version\n",
      "of pandas will change to not sort by default.\n",
      "\n",
      "To accept the future behavior, pass 'sort=False'.\n",
      "\n",
      "To retain the current behavior and silence the warning, pass 'sort=True'.\n",
      "\n",
      "  df = pd.concat([self.trainfile,self.testfile])\n"
     ]
    },
    {
     "name": "stdout",
     "output_type": "stream",
     "text": [
      "Parames: 3259\n",
      "6666\n",
      "6666\n",
      "6666\n",
      "6666\n",
      "epoch:  0 loss: [12.024529]\n",
      "epoch:  1 loss: [7.773973]\n",
      "epoch:  2 loss: [2.8597765]\n",
      "epoch:  3 loss: [1.4841796]\n",
      "epoch:  4 loss: [1.1699396]\n",
      "epoch:  5 loss: [1.6370908]\n",
      "epoch:  6 loss: [1.8515997]\n",
      "epoch:  7 loss: [2.2488427]\n",
      "epoch:  8 loss: [2.4133043]\n",
      "epoch:  9 loss: [3.5436616]\n",
      "epoch:  10 loss: [3.5054557]\n",
      "epoch:  11 loss: [2.6502101]\n",
      "epoch:  12 loss: [2.3495483]\n",
      "epoch:  13 loss: [2.6154437]\n",
      "epoch:  14 loss: [1.1022573]\n",
      "epoch:  15 loss: [2.9973662]\n",
      "epoch:  16 loss: [3.8579004]\n",
      "epoch:  17 loss: [6.178442]\n",
      "epoch:  18 loss: [8.025207]\n",
      "epoch:  19 loss: [7.136653]\n",
      "epoch:  20 loss: [7.3870573]\n",
      "epoch:  21 loss: [8.595674]\n",
      "epoch:  22 loss: [7.3435473]\n",
      "epoch:  23 loss: [6.7827497]\n",
      "epoch:  24 loss: [4.636249]\n",
      "epoch:  25 loss: [3.5871704]\n",
      "epoch:  26 loss: [2.8329947]\n",
      "epoch:  27 loss: [4.4573736]\n",
      "epoch:  28 loss: [4.7281036]\n",
      "epoch:  29 loss: [4.7764482]\n",
      "Parames: 3259\n",
      "6667\n",
      "6667\n",
      "6667\n",
      "6667\n",
      "epoch:  0 loss: [0.6093248]\n",
      "epoch:  1 loss: [1.5039687]\n",
      "epoch:  2 loss: [6.712246]\n",
      "epoch:  3 loss: [7.0024014]\n",
      "epoch:  4 loss: [6.4801226]\n",
      "epoch:  5 loss: [3.2884202]\n",
      "epoch:  6 loss: [3.6269343]\n",
      "epoch:  7 loss: [1.3347118]\n",
      "epoch:  8 loss: [1.0590647]\n",
      "epoch:  9 loss: [1.1074238]\n",
      "epoch:  10 loss: [1.8569903]\n",
      "epoch:  11 loss: [1.6635537]\n",
      "epoch:  12 loss: [2.031083]\n",
      "epoch:  13 loss: [2.0649345]\n",
      "epoch:  14 loss: [3.854222]\n",
      "epoch:  15 loss: [2.8241727]\n",
      "epoch:  16 loss: [4.5554295]\n",
      "epoch:  17 loss: [3.8784018]\n",
      "epoch:  18 loss: [3.9847918]\n",
      "epoch:  19 loss: [6.2238193]\n",
      "epoch:  20 loss: [5.2663083]\n",
      "epoch:  21 loss: [7.23936]\n",
      "epoch:  22 loss: [5.730556]\n",
      "epoch:  23 loss: [6.973385]\n",
      "epoch:  24 loss: [6.073906]\n",
      "epoch:  25 loss: [6.378568]\n",
      "epoch:  26 loss: [5.058364]\n",
      "epoch:  27 loss: [3.7043087]\n",
      "epoch:  28 loss: [5.9491067]\n",
      "epoch:  29 loss: [5.677361]\n",
      "Parames: 3259\n",
      "6667\n",
      "6667\n",
      "6667\n",
      "6667\n",
      "epoch:  0 loss: [0.6093248]\n",
      "epoch:  1 loss: [0.6189967]\n",
      "epoch:  2 loss: [0.6625199]\n",
      "epoch:  3 loss: [0.9236592]\n",
      "epoch:  4 loss: [0.8559564]\n",
      "epoch:  5 loss: [0.88980776]\n",
      "epoch:  6 loss: [1.2686524]\n",
      "epoch:  7 loss: [1.5201157]\n",
      "epoch:  8 loss: [1.6151947]\n",
      "epoch:  9 loss: [2.6549156]\n",
      "epoch:  10 loss: [4.126936]\n",
      "epoch:  11 loss: [3.530216]\n",
      "epoch:  12 loss: [3.5785751]\n",
      "epoch:  13 loss: [6.5671687]\n",
      "epoch:  14 loss: [3.3609593]\n",
      "epoch:  15 loss: [4.690835]\n",
      "epoch:  16 loss: [5.375682]\n",
      "epoch:  17 loss: [4.978845]\n",
      "epoch:  18 loss: [8.299833]\n",
      "epoch:  19 loss: [7.519844]\n",
      "epoch:  20 loss: [9.057664]\n",
      "epoch:  21 loss: [11.291857]\n",
      "epoch:  22 loss: [11.814135]\n",
      "epoch:  23 loss: [8.627268]\n",
      "epoch:  24 loss: [10.576701]\n",
      "epoch:  25 loss: [9.666995]\n",
      "epoch:  26 loss: [6.6638875]\n",
      "epoch:  27 loss: [8.0759735]\n",
      "epoch:  28 loss: [6.2821198]\n",
      "epoch:  29 loss: [9.70084]\n"
     ]
    }
   ],
   "source": [
    "run_dcn(dfTrain,dfTest,folds,params)"
   ]
  },
  {
   "cell_type": "code",
   "execution_count": null,
   "metadata": {},
   "outputs": [],
   "source": []
  }
 ],
 "metadata": {
  "kernelspec": {
   "display_name": "Python 3",
   "language": "python",
   "name": "python3"
  },
  "language_info": {
   "codemirror_mode": {
    "name": "ipython",
    "version": 3
   },
   "file_extension": ".py",
   "mimetype": "text/x-python",
   "name": "python",
   "nbconvert_exporter": "python",
   "pygments_lexer": "ipython3",
   "version": "3.6.5"
  }
 },
 "nbformat": 4,
 "nbformat_minor": 2
}
